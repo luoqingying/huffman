{
 "cells": [
  {
   "cell_type": "code",
   "execution_count": 1,
   "metadata": {},
   "outputs": [],
   "source": [
    "from heapq import heapify, heappush, heappop"
   ]
  },
  {
   "cell_type": "code",
   "execution_count": 5,
   "metadata": {},
   "outputs": [],
   "source": [
    "class Node:\n",
    "    \n",
    "    def __init__(self, e, freq):\n",
    "        self.element = e\n",
    "        self.freq = freq\n",
    "        self.left = None\n",
    "        self.right = None\n",
    "        \n",
    "    def __lt__(self, node):\n",
    "        return self.freq < node.freq"
   ]
  },
  {
   "cell_type": "code",
   "execution_count": 33,
   "metadata": {},
   "outputs": [],
   "source": [
    "class HuffmanCoding:\n",
    "    \n",
    "    def __init__(self):\n",
    "        self.encodings = {}\n",
    "        self.decodings = {}\n",
    "        \n",
    "    def get_code(self, root, current_code):\n",
    "        if(root.element != None):\n",
    "            self.encodings[root.element] = current_code\n",
    "            self.decodings[current_code] = root.element\n",
    "            return\n",
    "        #DFS\n",
    "        self.get_code(root.left, current_code + \"0\")\n",
    "        self.get_code(root.right, current_code + \"1\")"
   ]
  },
  {
   "cell_type": "code",
   "execution_count": 29,
   "metadata": {},
   "outputs": [],
   "source": [
    "def compute_huffman(e_list, freq_list):\n",
    "\n",
    "    H = []\n",
    "    heapify(H)\n",
    "    for i in range(len(e_list)):\n",
    "        heappush(H, Node(e_list[i], freq_list[i]))\n",
    "\n",
    "    while len(H) > 1:      \n",
    "        n1 = heappop(H)\n",
    "        n2 = heappop(H)\n",
    "        merge_node = Node(None, n1.freq + n2.freq)\n",
    "        merge_node.left = n1\n",
    "        merge_node.right = n2\n",
    "        heappush(H, merge_node)\n",
    "\n",
    "    root = heappop(H)\n",
    "\n",
    "    huffman = HuffmanCoding()\n",
    "    huffman.get_code(root, '')\n",
    "    \n",
    "    return huffman.encodings, huffman.decodings"
   ]
  },
  {
   "cell_type": "code",
   "execution_count": 34,
   "metadata": {},
   "outputs": [],
   "source": [
    "e_list = ['a', 'b', 'c']\n",
    "freq_list = [21, 3, 12]\n",
    "\n",
    "en, de = compute_huffman(e_list, freq_list)"
   ]
  },
  {
   "cell_type": "code",
   "execution_count": 35,
   "metadata": {},
   "outputs": [
    {
     "data": {
      "text/plain": [
       "{'b': '00', 'c': '01', 'a': '1'}"
      ]
     },
     "execution_count": 35,
     "metadata": {},
     "output_type": "execute_result"
    }
   ],
   "source": [
    "en"
   ]
  },
  {
   "cell_type": "code",
   "execution_count": 36,
   "metadata": {},
   "outputs": [
    {
     "data": {
      "text/plain": [
       "{'00': 'b', '01': 'c', '1': 'a'}"
      ]
     },
     "execution_count": 36,
     "metadata": {},
     "output_type": "execute_result"
    }
   ],
   "source": [
    "de"
   ]
  },
  {
   "cell_type": "code",
   "execution_count": null,
   "metadata": {},
   "outputs": [],
   "source": []
  }
 ],
 "metadata": {
  "kernelspec": {
   "display_name": "Python 3",
   "language": "python",
   "name": "python3"
  },
  "language_info": {
   "codemirror_mode": {
    "name": "ipython",
    "version": 3
   },
   "file_extension": ".py",
   "mimetype": "text/x-python",
   "name": "python",
   "nbconvert_exporter": "python",
   "pygments_lexer": "ipython3",
   "version": "3.7.6"
  }
 },
 "nbformat": 4,
 "nbformat_minor": 4
}
